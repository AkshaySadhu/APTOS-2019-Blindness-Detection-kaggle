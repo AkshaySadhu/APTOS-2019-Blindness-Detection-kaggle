{
 "cells": [
  {
   "cell_type": "code",
   "execution_count": 1,
   "metadata": {},
   "outputs": [],
   "source": [
    "import pandas as pd\n",
    "import numpy as np"
   ]
  },
  {
   "cell_type": "code",
   "execution_count": 2,
   "metadata": {},
   "outputs": [],
   "source": [
    "train_new_csv = pd.read_csv('./input/train_new.csv')\n",
    "train_old_csv = pd.read_csv('./input/train_old.csv')\n",
    "train_mixed_csv = pd.concat([train_new_csv, train_old_csv])"
   ]
  },
  {
   "cell_type": "code",
   "execution_count": 3,
   "metadata": {},
   "outputs": [
    {
     "data": {
      "text/plain": [
       "0    27615\n",
       "2     6291\n",
       "1     2813\n",
       "3     1066\n",
       "4     1003\n",
       "Name: diagnosis, dtype: int64"
      ]
     },
     "execution_count": 3,
     "metadata": {},
     "output_type": "execute_result"
    }
   ],
   "source": [
    "train_mixed_csv['diagnosis'].value_counts()"
   ]
  },
  {
   "cell_type": "code",
   "execution_count": null,
   "metadata": {},
   "outputs": [],
   "source": []
  },
  {
   "cell_type": "code",
   "execution_count": 4,
   "metadata": {},
   "outputs": [],
   "source": [
    "train_balanced_csv = pd.DataFrame(columns=['id_code', 'diagnosis'])\n",
    "train_balanced_csv.append(pd.Series(), ignore_index=True)\n",
    "samples_per_class = 1003\n",
    "diagnosis_list = range(5)\n",
    "for diag in diagnosis_list:\n",
    "    if len(train_new_csv[train_new_csv['diagnosis'] == diag]) >= samples_per_class:\n",
    "        train_balanced_csv = pd.concat(\n",
    "            [train_balanced_csv, train_new_csv[train_new_csv['diagnosis'] == diag].sample(samples_per_class)]\n",
    "        )\n",
    "    else:\n",
    "        new_len = len(train_new_csv[train_new_csv['diagnosis'] == diag])\n",
    "        train_balanced_csv = pd.concat(\n",
    "            [train_balanced_csv, train_new_csv[train_new_csv['diagnosis'] == diag].sample(new_len),\n",
    "            train_old_csv[train_old_csv['diagnosis'] == diag].sample(samples_per_class-new_len)]\n",
    "        )"
   ]
  },
  {
   "cell_type": "code",
   "execution_count": 5,
   "metadata": {},
   "outputs": [
    {
     "data": {
      "text/plain": [
       "4    1003\n",
       "3    1003\n",
       "2    1003\n",
       "1    1003\n",
       "0    1003\n",
       "Name: diagnosis, dtype: int64"
      ]
     },
     "execution_count": 5,
     "metadata": {},
     "output_type": "execute_result"
    }
   ],
   "source": [
    "train_balanced_csv['diagnosis'].value_counts()"
   ]
  },
  {
   "cell_type": "code",
   "execution_count": 6,
   "metadata": {},
   "outputs": [],
   "source": [
    "train_balanced_csv.to_csv('./input/train_balanced.csv')"
   ]
  }
 ],
 "metadata": {
  "kernelspec": {
   "display_name": "Python 3",
   "language": "python",
   "name": "python3"
  },
  "language_info": {
   "codemirror_mode": {
    "name": "ipython",
    "version": 3
   },
   "file_extension": ".py",
   "mimetype": "text/x-python",
   "name": "python",
   "nbconvert_exporter": "python",
   "pygments_lexer": "ipython3",
   "version": "3.7.3"
  }
 },
 "nbformat": 4,
 "nbformat_minor": 2
}
