{
 "cells": [
  {
   "cell_type": "code",
   "execution_count": 4,
   "metadata": {},
   "outputs": [],
   "source": [
    "from libs.lr_finder import LRFinder\n",
    "from config import Config\n"
   ]
  },
  {
   "cell_type": "code",
   "execution_count": 5,
   "metadata": {},
   "outputs": [],
   "source": [
    "import numpy as np # linear algebra\n",
    "import pandas as pd # data processing\n",
    "import matplotlib.pyplot as plt # Plotting\n",
    "import seaborn as sns # Plotting\n",
    "\n",
    "# Import Image Libraries - Pillow and OpenCV\n",
    "from PIL import Image\n",
    "import cv2\n",
    "\n",
    "# Import PyTorch and useful fuctions\n",
    "import torch\n",
    "import torch.nn as nn\n",
    "import torch.nn.functional as F\n",
    "from torch.utils.data import TensorDataset, DataLoader, Dataset\n",
    "import torchvision.transforms as transforms\n",
    "from torch.utils.data.sampler import SubsetRandomSampler\n",
    "import torchvision\n",
    "import torch.optim as optim\n",
    "import torchvision.models as models # Pre-Trained models\n",
    "\n",
    "\n",
    "# Import useful sklearn functions\n",
    "import sklearn\n",
    "from sklearn.metrics import cohen_kappa_score, accuracy_score\n",
    "from sklearn.model_selection import train_test_split\n",
    "\n",
    "import time\n",
    "from datetime import datetime\n",
    "from tqdm import tqdm_notebook\n",
    "\n",
    "import os\n",
    "import random\n",
    "\n",
    "# User-defined modules\n",
    "from train_dataset import transforms_train, transforms_valid, CreateDataset\n",
    "from config import Config\n",
    "\n",
    "from logger import Logger\n",
    "\n",
    "# Open source libs\n",
    "\n",
    "\n",
    "def add_data_to_loggers(loggers_list, column_name, data):\n",
    "    loggers_list[0].add_data(column_name, data)\n",
    "    loggers_list[1].add_data(column_name, data)\n",
    "\n",
    "# FOR DETERMINISTIC RESLTS\n",
    "from config import seed_torch\n",
    "\n",
    "def __init_fn(worker_id):\n",
    "    np.random.seed(13 + worker_id)\n",
    "\n",
    "def main(batch_size, lr, p_horizontalflip, model_type, info):\n",
    "    ## CONFIG!\n",
    "    cfg = Config(batch_size=batch_size, lr=lr, p_horizontalflip=p_horizontalflip, model_type=model_type)\n",
    "\n",
    "    ## REPRODUCIBILITY\n",
    "    seed_torch(cfg.seed)\n",
    "\n",
    "\n",
    "    print(os.listdir(\"./input\"))\n",
    "    base_dir = \"./input\"\n",
    "\n",
    "    # Loading Data + EDA\n",
    "\n",
    "    train_new_csv = pd.read_csv('./input/train_new.csv')\n",
    "    train_old_csv = pd.read_csv('./input/train_old.csv')\n",
    "    train_csv = None\n",
    "    train_path = None\n",
    "    if cfg.data_type == 'new_old_mixed':\n",
    "        train_csv = pd.concat([train_new_csv, train_old_csv], axis=0)\n",
    "        train_path = './input/train_mixed_images/'\n",
    "    elif cfg.data_type == 'new':\n",
    "        train_csv = train_new_csv\n",
    "        train_path = './input/train_mixed_BEN_preprocessing/'           #### NEED TO CHANGED IT!!!!!!!!!!!!!!!!!!!\n",
    "    elif cfg.data_type == 'old':\n",
    "        train_csv = train_old_csv\n",
    "        train_path = './input/train_old_images/'\n",
    "    elif cfg.data_type == 'new_old_mixed_ben_preprocessing':\n",
    "        train_csv = pd.concat([train_new_csv, train_old_csv], axis=0)\n",
    "        train_path = './input/train_mixed_BEN_preprocessing/'\n",
    "    elif cfg.data_type == 'new_old_balanced':\n",
    "        train_csv = pd.read_csv('./input/train_balanced.csv')\n",
    "    test_csv = pd.read_csv('./input/test.csv')\n",
    "    print('Train Size = {}'.format(len(train_csv)))\n",
    "    print('Public Test Size = {}'.format(len(test_csv)))\n",
    "\n",
    "    counts = train_csv['diagnosis'].value_counts()\n",
    "    class_list = ['No DR', 'Mild', 'Moderate', 'Severe', 'Proliferate']\n",
    "    for i, x in enumerate(class_list):\n",
    "        counts[x] = counts.pop(i)\n",
    "        print(\"{:^12} - class examples: {:^6}\".format(x, counts[x]))\n",
    "\n",
    "    # Data Processing\n",
    "    #model\n",
    "#     cfg.model.load_state_dict(\n",
    "#         torch.load('./Model_weights_finetuning/pretrained_on_old_img256_b5.pth')['model'])\n",
    "\n",
    "\n",
    "    ## SHUFFLE DATA\n",
    "    train_csv, valid_csv = train_test_split(train_csv, test_size=cfg.valid_size,  shuffle=True, \n",
    "                                            random_state=cfg.seed, \n",
    "                                           stratify=train_csv.diagnosis)\n",
    "    train_data = CreateDataset(df_data=train_csv, data_dir=train_path, transform=transforms_train)\n",
    "    valid_data = CreateDataset(df_data=valid_csv, data_dir=train_path, transform=transforms_valid)\n",
    "\n",
    "    # obtain training indices that will be used for validation\n",
    "\n",
    "\n",
    "    # Create Samplers\n",
    "\n",
    "\n",
    "    # prepare data loaders (combine dataset and sampler)\n",
    "    train_loader = DataLoader(train_data, batch_size=cfg.batch_size,\n",
    "                              pin_memory=True,\n",
    "                              num_workers=cfg.num_workers,\n",
    "                              shuffle=True,\n",
    "                              worker_init_fn=__init_fn)\n",
    "\n",
    "    valid_loader = DataLoader(valid_data, batch_size=cfg.batch_size,\n",
    "                              pin_memory=True,\n",
    "                              num_workers=cfg.num_workers,\n",
    "                              shuffle=True,\n",
    "                              worker_init_fn=__init_fn)\n",
    "\n",
    "    # Model\n",
    "\n",
    "    # check if CUDA is available\n",
    "    train_on_gpu = torch.cuda.is_available()\n",
    "\n",
    "    if not train_on_gpu:\n",
    "        print('CUDA is not available.  Training on CPU ...')\n",
    "    else:\n",
    "        print('CUDA is available!  Training on GPU ...')\n",
    "        cfg.model = cfg.model.cuda()\n",
    "\n",
    "    # Trainable Parameters\n",
    "    print(\"Number of trainable parameters: \\n{}\".format(cfg.pytorch_total_params))\n",
    "\n",
    "    #Training(Fine-Tuning) and Validation\n",
    "    device = torch.device(\"cuda\" if torch.cuda.is_available() else \"cpu\")\n",
    "    \n",
    "    lr_finder = LRFinder(cfg.model, cfg.optimizer, cfg.criterion, device='cuda')\n",
    "    lr_finder.range_test(train_loader, end_lr=10, num_iter=1000)\n",
    "    lr_finder.plot(log_lr=True)\n",
    "    \n"
   ]
  },
  {
   "cell_type": "code",
   "execution_count": 6,
   "metadata": {},
   "outputs": [
    {
     "name": "stdout",
     "output_type": "stream",
     "text": [
      "['sample_submission.csv', 'train_old_o.csv', 'train_mixed_BEN_preprocessing', 'test_images', 'train_old.csv', 'train_new_images', 'EfficientNet_PyTorch', 'train_new.csv', 'train_mixed_images', 'pretrained-models', 'test.csv', 'train_balanced.csv', 'train_old_images']\n",
      "Train Size = 3662\n",
      "Public Test Size = 1928\n",
      "   No DR     - class examples:  1805 \n",
      "    Mild     - class examples:  370  \n",
      "  Moderate   - class examples:  999  \n",
      "   Severe    - class examples:  193  \n",
      "Proliferate  - class examples:  295  \n",
      "CUDA is available!  Training on GPU ...\n",
      "Number of trainable parameters: \n",
      "28342833\n"
     ]
    },
    {
     "data": {
      "application/vnd.jupyter.widget-view+json": {
       "model_id": "07cd43975ea34b98a2529fa5662d53c2",
       "version_major": 2,
       "version_minor": 0
      },
      "text/plain": [
       "HBox(children=(IntProgress(value=0, max=1000), HTML(value='')))"
      ]
     },
     "metadata": {},
     "output_type": "display_data"
    },
    {
     "name": "stdout",
     "output_type": "stream",
     "text": [
      "Stopping early, the loss has diverged\n",
      "Learning rate search finished. See the graph with {finder_name}.plot()\n"
     ]
    },
    {
     "data": {
      "image/png": "[encoded data removed]",
      "text/plain": [
       "<Figure size 432x288 with 1 Axes>"
      ]
     },
     "metadata": {
      "needs_background": "light"
     },
     "output_type": "display_data"
    }
   ],
   "source": [
    "main(16, 1e-6, 0.7, 'efficientnet-b5', 'blah')"
   ]
  },
  {
   "cell_type": "code",
   "execution_count": null,
   "metadata": {},
   "outputs": [],
   "source": []
  }
 ],
 "metadata": {
  "kernelspec": {
   "display_name": "Python 3",
   "language": "python",
   "name": "python3"
  },
  "language_info": {
   "codemirror_mode": {
    "name": "ipython",
    "version": 3
   },
   "file_extension": ".py",
   "mimetype": "text/x-python",
   "name": "python",
   "nbconvert_exporter": "python",
   "pygments_lexer": "ipython3",
   "version": "3.7.3"
  }
 },
 "nbformat": 4,
 "nbformat_minor": 2
}
