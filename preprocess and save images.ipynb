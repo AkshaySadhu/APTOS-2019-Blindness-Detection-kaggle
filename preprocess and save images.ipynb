{
 "cells": [
  {
   "cell_type": "code",
   "execution_count": 1,
   "metadata": {},
   "outputs": [],
   "source": [
    "import pandas as pd\n",
    "from torch.utils.data.dataset import Dataset\n",
    "from torchvision.transforms import transforms\n",
    "import os\n",
    "import cv2\n",
    "from os.path import isfile\n",
    "import numpy as np\n",
    "from tqdm import tqdm"
   ]
  },
  {
   "cell_type": "code",
   "execution_count": 2,
   "metadata": {},
   "outputs": [],
   "source": [
    "def crop_image1(img, tol=7):\n",
    "    # img is image data\n",
    "    # tol  is tolerance\n",
    "\n",
    "    mask = img > tol\n",
    "    return img[np.ix_(mask.any(1), mask.any(0))]\n",
    "\n",
    "\n",
    "def crop_image_from_gray(img, tol=7):\n",
    "    if img.ndim == 2:\n",
    "        mask = img > tol\n",
    "        return img[np.ix_(mask.any(1), mask.any(0))]\n",
    "    elif img.ndim == 3:\n",
    "        gray_img = cv2.cvtColor(img, cv2.COLOR_RGB2GRAY)\n",
    "        mask = gray_img > tol\n",
    "\n",
    "        check_shape = img[:, :, 0][np.ix_(mask.any(1), mask.any(0))].shape[0]\n",
    "        if (check_shape == 0):  # image is too dark so that we crop out everything,\n",
    "            return img  # return original image\n",
    "        else:\n",
    "            img1 = img[:, :, 0][np.ix_(mask.any(1), mask.any(0))]\n",
    "            img2 = img[:, :, 1][np.ix_(mask.any(1), mask.any(0))]\n",
    "            img3 = img[:, :, 2][np.ix_(mask.any(1), mask.any(0))]\n",
    "            #         print(img1.shape,img2.shape,img3.shape)\n",
    "            img = np.stack([img1, img2, img3], axis=-1)\n",
    "        #         print(img.shape)\n",
    "        return img\n",
    "\n",
    "def expand_path(p, train_path):\n",
    "    p = str(p)\n",
    "    if isfile(train_path + p + \".png\"):\n",
    "        return train_path + (p + \".png\")\n",
    "    return p"
   ]
  },
  {
   "cell_type": "code",
   "execution_count": 3,
   "metadata": {},
   "outputs": [],
   "source": [
    "def save_preprocessing(train_path, save_path, df, idx):\n",
    "    p = df.id_code.values[idx]\n",
    "    p_path = expand_path(p, train_path)\n",
    "    image = cv2.imread(p_path)\n",
    "    image = cv2.cvtColor(image, cv2.COLOR_BGR2RGB)\n",
    "    image = crop_image_from_gray(image)\n",
    "    image = cv2.resize(image, (256, 256))\n",
    "    image = cv2.addWeighted(image, 4, cv2.GaussianBlur(image, (0, 0), 30), -4, 128)\n",
    "    cv2.imwrite(save_path + p + '.png', image)"
   ]
  },
  {
   "cell_type": "code",
   "execution_count": 4,
   "metadata": {},
   "outputs": [
    {
     "name": "stderr",
     "output_type": "stream",
     "text": [
      "100%|██████████| 38788/38788 [45:28<00:00, 14.22it/s] \n"
     ]
    }
   ],
   "source": [
    "train_new_csv = pd.read_csv('./input/train_new.csv')\n",
    "train_old_csv = pd.read_csv('./input/train_old.csv')\n",
    "train_csv = pd.concat([train_new_csv, train_old_csv], axis=0)\n",
    "\n",
    "for i in tqdm(range(len(train_csv))):\n",
    "    save_preprocessing('./input/train_mixed_images/',\n",
    "                       './input/train_mixed_BEN_preprocessing/',\n",
    "                       train_csv,\n",
    "                       i)"
   ]
  },
  {
   "cell_type": "code",
   "execution_count": null,
   "metadata": {},
   "outputs": [],
   "source": []
  }
 ],
 "metadata": {
  "kernelspec": {
   "display_name": "Python 3",
   "language": "python",
   "name": "python3"
  },
  "language_info": {
   "codemirror_mode": {
    "name": "ipython",
    "version": 3
   },
   "file_extension": ".py",
   "mimetype": "text/x-python",
   "name": "python",
   "nbconvert_exporter": "python",
   "pygments_lexer": "ipython3",
   "version": "3.7.3"
  }
 },
 "nbformat": 4,
 "nbformat_minor": 2
}
